{
  "nbformat": 4,
  "nbformat_minor": 0,
  "metadata": {
    "colab": {
      "provenance": [],
      "authorship_tag": "ABX9TyOjzNvd0Eb+45E2POOUxJI7",
      "include_colab_link": true
    },
    "kernelspec": {
      "name": "python3",
      "display_name": "Python 3"
    },
    "language_info": {
      "name": "python"
    }
  },
  "cells": [
    {
      "cell_type": "markdown",
      "metadata": {
        "id": "view-in-github",
        "colab_type": "text"
      },
      "source": [
        "<a href=\"https://colab.research.google.com/github/wesslen/llm-examples/blob/main/notebooks/dspy_intro.ipynb\" target=\"_parent\"><img src=\"https://colab.research.google.com/assets/colab-badge.svg\" alt=\"Open In Colab\"/></a>"
      ]
    },
    {
      "cell_type": "code",
      "source": [
        "import dspy\n",
        "\n",
        "lm = dspy.LM(\"gemini-2.5-flash-lite\")\n",
        "dspy.configure(lm = lm)\n",
        "\n",
        "lm(\"What is 2+2\")\n",
        "\n",
        "rag = dspy.ChainOfThought(\"context, question -> answer\")\n",
        "r = rag(context = \"it's 12pm\", question = \"What time is it?\")\n",
        "\n",
        "r.answer\n",
        "\n",
        "# DSPy tools to make async - will help\n",
        "\n",
        "with dspy.context(lm = lm):\n",
        "  r = rag(context = \"it's 12pm\", question = \"What time is it?\")"
      ],
      "metadata": {
        "id": "wBp5EwznVo9M"
      },
      "execution_count": null,
      "outputs": []
    }
  ]
}