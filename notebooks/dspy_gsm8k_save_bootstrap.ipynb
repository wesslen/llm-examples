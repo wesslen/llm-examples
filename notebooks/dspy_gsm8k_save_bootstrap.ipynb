{
  "nbformat": 4,
  "nbformat_minor": 0,
  "metadata": {
    "colab": {
      "provenance": [],
      "authorship_tag": "ABX9TyNPdhZ7SeHhJM7PhIzriJcj",
      "include_colab_link": true
    },
    "kernelspec": {
      "name": "python3",
      "display_name": "Python 3"
    },
    "language_info": {
      "name": "python"
    }
  },
  "cells": [
    {
      "cell_type": "markdown",
      "metadata": {
        "id": "view-in-github",
        "colab_type": "text"
      },
      "source": [
        "<a href=\"https://colab.research.google.com/github/wesslen/llm-examples/blob/main/notebooks/dspy_gsm8k_save_bootstrap.ipynb\" target=\"_parent\"><img src=\"https://colab.research.google.com/assets/colab-badge.svg\" alt=\"Open In Colab\"/></a>"
      ]
    },
    {
      "cell_type": "code",
      "source": [
        "!uv pip install --system dspy\n",
        "!uv pip install --system litellm[proxy]"
      ],
      "metadata": {
        "colab": {
          "base_uri": "https://localhost:8080/"
        },
        "id": "YaAx9Gwyq649",
        "outputId": "a6816d30-f485-4a15-a3c3-f3119a69c92c"
      },
      "execution_count": 2,
      "outputs": [
        {
          "output_type": "stream",
          "name": "stdout",
          "text": [
            "\u001b[2mUsing Python 3.11.13 environment at: /usr\u001b[0m\n",
            "\u001b[2K\u001b[2mResolved \u001b[1m79 packages\u001b[0m \u001b[2min 1.28s\u001b[0m\u001b[0m\n",
            "\u001b[2K\u001b[37m⠙\u001b[0m \u001b[2mPreparing packages...\u001b[0m (0/13)\n",
            "\u001b[2K\u001b[1A\u001b[37m⠙\u001b[0m \u001b[2mPreparing packages...\u001b[0m (0/13)\n",
            "\u001b[2mpython-dotenv\u001b[0m \u001b[32m\u001b[2m------------------------------\u001b[0m\u001b[0m     0 B/20.07 KiB\n",
            "\u001b[2K\u001b[2A\u001b[37m⠙\u001b[0m \u001b[2mPreparing packages...\u001b[0m (0/13)\n",
            "\u001b[2mbackoff   \u001b[0m \u001b[32m\u001b[2m------------------------------\u001b[0m\u001b[0m     0 B/14.79 KiB\n",
            "\u001b[2mpython-dotenv\u001b[0m \u001b[32m\u001b[2m------------------------------\u001b[0m\u001b[0m     0 B/20.07 KiB\n",
            "\u001b[2K\u001b[3A\u001b[37m⠙\u001b[0m \u001b[2mPreparing packages...\u001b[0m (0/13)\n",
            "\u001b[2mcolorlog  \u001b[0m \u001b[32m\u001b[2m------------------------------\u001b[0m\u001b[0m     0 B/11.16 KiB\n",
            "\u001b[2mbackoff   \u001b[0m \u001b[32m\u001b[2m------------------------------\u001b[0m\u001b[0m     0 B/14.79 KiB\n",
            "\u001b[2mpython-dotenv\u001b[0m \u001b[32m\u001b[2m------------------------------\u001b[0m\u001b[0m     0 B/20.07 KiB\n",
            "\u001b[2K\u001b[4A\u001b[37m⠙\u001b[0m \u001b[2mPreparing packages...\u001b[0m (0/13)\n",
            "\u001b[2mcolorlog  \u001b[0m \u001b[32m\u001b[2m------------------------------\u001b[0m\u001b[0m     0 B/11.16 KiB\n",
            "\u001b[2mbackoff   \u001b[0m \u001b[32m\u001b[2m------------------------------\u001b[0m\u001b[0m     0 B/14.79 KiB\n",
            "\u001b[2mpython-dotenv\u001b[0m \u001b[32m\u001b[2m------------------------------\u001b[0m\u001b[0m     0 B/20.07 KiB\n",
            "\u001b[2K\u001b[4A\u001b[37m⠙\u001b[0m \u001b[2mPreparing packages...\u001b[0m (0/13)\n",
            "\u001b[2mcolorlog  \u001b[0m \u001b[32m\u001b[2m------------------------------\u001b[0m\u001b[0m     0 B/11.16 KiB\n",
            "\u001b[2mbackoff   \u001b[0m \u001b[32m\u001b[2m------------------------------\u001b[0m\u001b[0m     0 B/14.79 KiB\n",
            "\u001b[2mpython-dotenv\u001b[0m \u001b[32m-----------------------\u001b[2m-------\u001b[0m\u001b[0m 14.88 KiB/20.07 KiB\n",
            "\u001b[2K\u001b[4A\u001b[37m⠙\u001b[0m \u001b[2mPreparing packages...\u001b[0m (0/13)\n",
            "\u001b[2mcolorlog  \u001b[0m \u001b[32m\u001b[2m------------------------------\u001b[0m\u001b[0m     0 B/11.16 KiB\n",
            "\u001b[2mbackoff   \u001b[0m \u001b[32m------------------------------\u001b[2m\u001b[0m\u001b[0m 14.79 KiB/14.79 KiB\n",
            "\u001b[2mpython-dotenv\u001b[0m \u001b[32m-----------------------\u001b[2m-------\u001b[0m\u001b[0m 14.88 KiB/20.07 KiB\n",
            "\u001b[2K\u001b[4A\u001b[37m⠙\u001b[0m \u001b[2mPreparing packages...\u001b[0m (0/13)\n",
            "\u001b[2mcolorlog  \u001b[0m \u001b[32m------------------------------\u001b[2m\u001b[0m\u001b[0m 11.16 KiB/11.16 KiB\n",
            "\u001b[2mbackoff   \u001b[0m \u001b[32m------------------------------\u001b[2m\u001b[0m\u001b[0m 14.79 KiB/14.79 KiB\n",
            "\u001b[2mpython-dotenv\u001b[0m \u001b[32m-----------------------\u001b[2m-------\u001b[0m\u001b[0m 14.88 KiB/20.07 KiB\n",
            "\u001b[2K\u001b[4A\u001b[37m⠙\u001b[0m \u001b[2mPreparing packages...\u001b[0m (0/13)\n",
            "\u001b[2mbackoff   \u001b[0m \u001b[32m------------------------------\u001b[2m\u001b[0m\u001b[0m 14.79 KiB/14.79 KiB\n",
            "\u001b[2mpython-dotenv\u001b[0m \u001b[32m-----------------------\u001b[2m-------\u001b[0m\u001b[0m 14.88 KiB/20.07 KiB\n",
            "\u001b[2K\u001b[3A\u001b[37m⠙\u001b[0m \u001b[2mPreparing packages...\u001b[0m (0/13)\n",
            "\u001b[2mpython-dotenv\u001b[0m \u001b[32m-----------------------\u001b[2m-------\u001b[0m\u001b[0m 14.88 KiB/20.07 KiB\n",
            "\u001b[2K\u001b[2A\u001b[37m⠙\u001b[0m \u001b[2mPreparing packages...\u001b[0m (0/13)\n",
            "\u001b[2masyncer   \u001b[0m \u001b[32m\u001b[2m------------------------------\u001b[0m\u001b[0m     0 B/8.99 KiB\n",
            "\u001b[2mpython-dotenv\u001b[0m \u001b[32m-----------------------\u001b[2m-------\u001b[0m\u001b[0m 14.88 KiB/20.07 KiB\n",
            "\u001b[2K\u001b[3A\u001b[37m⠙\u001b[0m \u001b[2mPreparing packages...\u001b[0m (0/13)\n",
            "\u001b[2masyncer   \u001b[0m \u001b[32m------------------------------\u001b[2m\u001b[0m\u001b[0m 8.99 KiB/8.99 KiB\n",
            "\u001b[2mpython-dotenv\u001b[0m \u001b[32m-----------------------\u001b[2m-------\u001b[0m\u001b[0m 14.88 KiB/20.07 KiB\n",
            "\u001b[2K\u001b[3A\u001b[37m⠙\u001b[0m \u001b[2mPreparing packages...\u001b[0m (0/13)\n",
            "\u001b[2masyncer   \u001b[0m \u001b[32m------------------------------\u001b[2m\u001b[0m\u001b[0m 8.99 KiB/8.99 KiB\n",
            "\u001b[2mpython-dotenv\u001b[0m \u001b[32m-----------------------\u001b[2m-------\u001b[0m\u001b[0m 14.88 KiB/20.07 KiB\n",
            "\u001b[2mdiskcache \u001b[0m \u001b[32m-----------\u001b[2m-------------------\u001b[0m\u001b[0m 14.93 KiB/44.48 KiB\n",
            "\u001b[2K\u001b[4A\u001b[37m⠙\u001b[0m \u001b[2mPreparing packages...\u001b[0m (0/13)\n",
            "\u001b[2mpython-dotenv\u001b[0m \u001b[32m-----------------------\u001b[2m-------\u001b[0m\u001b[0m 14.88 KiB/20.07 KiB\n",
            "\u001b[2mdiskcache \u001b[0m \u001b[32m-----------\u001b[2m-------------------\u001b[0m\u001b[0m 14.93 KiB/44.48 KiB\n",
            "\u001b[2K\u001b[3A\u001b[37m⠙\u001b[0m \u001b[2mPreparing packages...\u001b[0m (0/13)\n",
            "\u001b[2mpython-dotenv\u001b[0m \u001b[32m-----------------------\u001b[2m-------\u001b[0m\u001b[0m 14.88 KiB/20.07 KiB\n",
            "\u001b[2mdiskcache \u001b[0m \u001b[32m---------------------\u001b[2m---------\u001b[0m\u001b[0m 30.93 KiB/44.48 KiB\n",
            "\u001b[2K\u001b[3A\u001b[37m⠙\u001b[0m \u001b[2mPreparing packages...\u001b[0m (0/13)\n",
            "\u001b[2mpython-dotenv\u001b[0m \u001b[32m------------------------------\u001b[2m\u001b[0m\u001b[0m 20.07 KiB/20.07 KiB\n",
            "\u001b[2mdiskcache \u001b[0m \u001b[32m---------------------\u001b[2m---------\u001b[0m\u001b[0m 30.93 KiB/44.48 KiB\n",
            "\u001b[2K\u001b[3A\u001b[37m⠙\u001b[0m \u001b[2mPreparing packages...\u001b[0m (0/13)\n",
            "\u001b[2mdiskcache \u001b[0m \u001b[32m---------------------\u001b[2m---------\u001b[0m\u001b[0m 30.93 KiB/44.48 KiB\n",
            "\u001b[2K\u001b[2A\u001b[37m⠙\u001b[0m \u001b[2mPreparing packages...\u001b[0m (0/13)\n",
            "\u001b[2mdiskcache \u001b[0m \u001b[32m------------------------------\u001b[2m\u001b[0m\u001b[0m 44.48 KiB/44.48 KiB\n",
            "\u001b[2K\u001b[2A\u001b[37m⠙\u001b[0m \u001b[2mPreparing packages...\u001b[0m (0/13)\n",
            "\u001b[2K\u001b[1A\u001b[37m⠙\u001b[0m \u001b[2mPreparing packages...\u001b[0m (0/13)\n",
            "\u001b[2mjson-repair\u001b[0m \u001b[32m\u001b[2m------------------------------\u001b[0m\u001b[0m     0 B/25.93 KiB\n",
            "\u001b[2K\u001b[2A\u001b[37m⠙\u001b[0m \u001b[2mPreparing packages...\u001b[0m (0/13)\n",
            "\u001b[2mjson-repair\u001b[0m \u001b[32m------------------\u001b[2m------------\u001b[0m\u001b[0m 14.89 KiB/25.93 KiB\n",
            "\u001b[2K\u001b[2A\u001b[37m⠙\u001b[0m \u001b[2mPreparing packages...\u001b[0m (0/13)\n",
            "\u001b[2mjson-repair\u001b[0m \u001b[32m------------------\u001b[2m------------\u001b[0m\u001b[0m 14.89 KiB/25.93 KiB\n",
            "\u001b[2mdspy      \u001b[0m \u001b[32m\u001b[2m------------------------------\u001b[0m\u001b[0m     0 B/290.33 KiB\n",
            "\u001b[2K\u001b[3A\u001b[37m⠙\u001b[0m \u001b[2mPreparing packages...\u001b[0m (0/13)\n",
            "\u001b[2mjson-repair\u001b[0m \u001b[32m------------------\u001b[2m------------\u001b[0m\u001b[0m 14.89 KiB/25.93 KiB\n",
            "\u001b[2mujson     \u001b[0m \u001b[32m\u001b[2m------------------------------\u001b[0m\u001b[0m     0 B/52.31 KiB\n",
            "\u001b[2mdspy      \u001b[0m \u001b[32m\u001b[2m------------------------------\u001b[0m\u001b[0m     0 B/290.33 KiB\n",
            "\u001b[2K\u001b[4A\u001b[37m⠙\u001b[0m \u001b[2mPreparing packages...\u001b[0m (0/13)\n",
            "\u001b[2mujson     \u001b[0m \u001b[32m\u001b[2m------------------------------\u001b[0m\u001b[0m     0 B/52.31 KiB\n",
            "\u001b[2mmako      \u001b[0m \u001b[32m\u001b[2m------------------------------\u001b[0m\u001b[0m     0 B/76.67 KiB\n",
            "\u001b[2mdspy      \u001b[0m \u001b[32m\u001b[2m------------------------------\u001b[0m\u001b[0m     0 B/290.33 KiB\n",
            "\u001b[2moptuna    \u001b[0m \u001b[32m\u001b[2m------------------------------\u001b[0m\u001b[0m     0 B/386.67 KiB\n",
            "\u001b[2K\u001b[5A\u001b[37m⠙\u001b[0m \u001b[2mPreparing packages...\u001b[0m (0/13)\n",
            "\u001b[2mujson     \u001b[0m \u001b[32m\u001b[2m------------------------------\u001b[0m\u001b[0m     0 B/52.31 KiB\n",
            "\u001b[2mmako      \u001b[0m \u001b[32m\u001b[2m------------------------------\u001b[0m\u001b[0m     0 B/76.67 KiB\n",
            "\u001b[2malembic   \u001b[0m \u001b[32m\u001b[2m------------------------------\u001b[0m\u001b[0m     0 B/241.24 KiB\n",
            "\u001b[2mdspy      \u001b[0m \u001b[32m\u001b[2m------------------------------\u001b[0m\u001b[0m     0 B/290.33 KiB\n",
            "\u001b[2moptuna    \u001b[0m \u001b[32m\u001b[2m------------------------------\u001b[0m\u001b[0m     0 B/386.67 KiB\n",
            "\u001b[2K\u001b[6A\u001b[37m⠙\u001b[0m \u001b[2mPreparing packages...\u001b[0m (0/13)\n",
            "\u001b[2mmako      \u001b[0m \u001b[32m--------------------------\u001b[2m----\u001b[0m\u001b[0m 64.00 KiB/76.67 KiB\n",
            "\u001b[2malembic   \u001b[0m \u001b[32m------\u001b[2m------------------------\u001b[0m\u001b[0m 48.00 KiB/241.24 KiB\n",
            "\u001b[2mdspy      \u001b[0m \u001b[32m------\u001b[2m------------------------\u001b[0m\u001b[0m 50.95 KiB/290.33 KiB\n",
            "\u001b[2moptuna    \u001b[0m \u001b[32m-----\u001b[2m-------------------------\u001b[0m\u001b[0m 61.35 KiB/386.67 KiB\n",
            "\u001b[2K\u001b[5A\u001b[37m⠙\u001b[0m \u001b[2mPreparing packages...\u001b[0m (0/13)\n",
            "\u001b[2mmako      \u001b[0m \u001b[32m------------------------------\u001b[2m\u001b[0m\u001b[0m 76.67 KiB/76.67 KiB\n",
            "\u001b[2malembic   \u001b[0m \u001b[32m--------\u001b[2m----------------------\u001b[0m\u001b[0m 64.00 KiB/241.24 KiB\n",
            "\u001b[2mdspy      \u001b[0m \u001b[32m-------\u001b[2m-----------------------\u001b[0m\u001b[0m 66.95 KiB/290.33 KiB\n",
            "\u001b[2moptuna    \u001b[0m \u001b[32m-------\u001b[2m-----------------------\u001b[0m\u001b[0m 77.35 KiB/386.67 KiB\n",
            "\u001b[2K\u001b[5A\u001b[37m⠙\u001b[0m \u001b[2mPreparing packages...\u001b[0m (0/13)\n",
            "\u001b[2malembic   \u001b[0m \u001b[32m----------\u001b[2m--------------------\u001b[0m\u001b[0m 80.00 KiB/241.24 KiB\n",
            "\u001b[2mdspy      \u001b[0m \u001b[32m-------\u001b[2m-----------------------\u001b[0m\u001b[0m 66.95 KiB/290.33 KiB\n",
            "\u001b[2moptuna    \u001b[0m \u001b[32m-------\u001b[2m-----------------------\u001b[0m\u001b[0m 77.35 KiB/386.67 KiB\n",
            "\u001b[2K\u001b[4A\u001b[37m⠙\u001b[0m \u001b[2mPreparing packages...\u001b[0m (0/13)\n",
            "\u001b[2malembic   \u001b[0m \u001b[32m--------------------------\u001b[2m----\u001b[0m\u001b[0m 208.00 KiB/241.24 KiB\n",
            "\u001b[2mdspy      \u001b[0m \u001b[32m-----------------\u001b[2m-------------\u001b[0m\u001b[0m 162.95 KiB/290.33 KiB\n",
            "\u001b[2moptuna    \u001b[0m \u001b[32m---------------\u001b[2m---------------\u001b[0m\u001b[0m 189.35 KiB/386.67 KiB\n",
            "\u001b[2K\u001b[4A\u001b[37m⠹\u001b[0m \u001b[2mPreparing packages...\u001b[0m (8/13)\n",
            "\u001b[2mdspy      \u001b[0m \u001b[32m------------------------\u001b[2m------\u001b[0m\u001b[0m 222.77 KiB/290.33 KiB\n",
            "\u001b[2moptuna    \u001b[0m \u001b[32m------------------\u001b[2m------------\u001b[0m\u001b[0m 221.35 KiB/386.67 KiB\n",
            "\u001b[2K\u001b[3A\u001b[37m⠹\u001b[0m \u001b[2mPreparing packages...\u001b[0m (8/13)\n",
            "\u001b[2moptuna    \u001b[0m \u001b[32m-----------------------\u001b[2m-------\u001b[0m\u001b[0m 285.35 KiB/386.67 KiB\n",
            "\u001b[2K\u001b[2A\u001b[37m⠹\u001b[0m \u001b[2mPreparing packages...\u001b[0m (8/13)\n",
            "\u001b[2moptuna    \u001b[0m \u001b[32m-----------------------\u001b[2m-------\u001b[0m\u001b[0m 285.35 KiB/386.67 KiB\n",
            "\u001b[2K\u001b[2A\u001b[37m⠹\u001b[0m \u001b[2mPreparing packages...\u001b[0m (8/13)\n",
            "\u001b[2K\u001b[1A\u001b[37m⠹\u001b[0m \u001b[2mPreparing packages...\u001b[0m (8/13)\n",
            "\u001b[2K\u001b[1A\u001b[37m⠹\u001b[0m \u001b[2mPreparing packages...\u001b[0m (8/13)\n",
            "\u001b[2K\u001b[1A\u001b[37m⠹\u001b[0m \u001b[2mPreparing packages...\u001b[0m (8/13)\n",
            "\u001b[2K\u001b[1A\u001b[37m⠸\u001b[0m \u001b[2mPreparing packages...\u001b[0m (12/13)\n",
            "\u001b[2K\u001b[1A\u001b[37m⠸\u001b[0m \u001b[2mPreparing packages...\u001b[0m (12/13)\n",
            "\u001b[2K\u001b[1A\u001b[37m⠸\u001b[0m \u001b[2mPreparing packages...\u001b[0m (12/13)\n",
            "\u001b[2K\u001b[1A\u001b[37m⠸\u001b[0m \u001b[2mPreparing packages...\u001b[0m (12/13)\n",
            "\u001b[2K\u001b[1A\u001b[37m⠸\u001b[0m \u001b[2mPreparing packages...\u001b[0m (12/13)\n",
            "\u001b[2K\u001b[1A\u001b[37m⠼\u001b[0m \u001b[2mPreparing packages...\u001b[0m (12/13)\n",
            "\u001b[2K\u001b[1A\u001b[37m⠴\u001b[0m \u001b[2mPreparing packages...\u001b[0m (12/13)\n",
            "\u001b[2K\u001b[1A\u001b[37m⠴\u001b[0m \u001b[2mPreparing packages...\u001b[0m (12/13)\n",
            "\u001b[2K\u001b[1A\u001b[37m⠴\u001b[0m \u001b[2mPreparing packages...\u001b[0m (12/13)\n",
            "\u001b[2K\u001b[1A\u001b[37m⠴\u001b[0m \u001b[2mPreparing packages...\u001b[0m (12/13)\n",
            "\u001b[2K\u001b[1A\u001b[37m⠴\u001b[0m \u001b[2mPreparing packages...\u001b[0m (12/13)\n",
            "\u001b[2K\u001b[1A\u001b[37m⠴\u001b[0m \u001b[2mPreparing packages...\u001b[0m (12/13)\n",
            "\u001b[2K\u001b[2mPrepared \u001b[1m13 packages\u001b[0m \u001b[2min 958ms\u001b[0m\u001b[0m\n",
            "\u001b[2K\u001b[2mInstalled \u001b[1m13 packages\u001b[0m \u001b[2min 58ms\u001b[0m\u001b[0m\n",
            " \u001b[32m+\u001b[39m \u001b[1malembic\u001b[0m\u001b[2m==1.16.4\u001b[0m\n",
            " \u001b[32m+\u001b[39m \u001b[1masyncer\u001b[0m\u001b[2m==0.0.8\u001b[0m\n",
            " \u001b[32m+\u001b[39m \u001b[1mbackoff\u001b[0m\u001b[2m==2.2.1\u001b[0m\n",
            " \u001b[32m+\u001b[39m \u001b[1mcolorlog\u001b[0m\u001b[2m==6.9.0\u001b[0m\n",
            " \u001b[32m+\u001b[39m \u001b[1mdiskcache\u001b[0m\u001b[2m==5.6.3\u001b[0m\n",
            " \u001b[32m+\u001b[39m \u001b[1mdspy\u001b[0m\u001b[2m==2.6.27\u001b[0m\n",
            " \u001b[32m+\u001b[39m \u001b[1mjson-repair\u001b[0m\u001b[2m==0.49.0\u001b[0m\n",
            " \u001b[32m+\u001b[39m \u001b[1mlitellm\u001b[0m\u001b[2m==1.75.3\u001b[0m\n",
            " \u001b[32m+\u001b[39m \u001b[1mmagicattr\u001b[0m\u001b[2m==0.1.6\u001b[0m\n",
            " \u001b[32m+\u001b[39m \u001b[1mmako\u001b[0m\u001b[2m==1.3.10\u001b[0m\n",
            " \u001b[32m+\u001b[39m \u001b[1moptuna\u001b[0m\u001b[2m==4.4.0\u001b[0m\n",
            " \u001b[32m+\u001b[39m \u001b[1mpython-dotenv\u001b[0m\u001b[2m==1.1.1\u001b[0m\n",
            " \u001b[32m+\u001b[39m \u001b[1mujson\u001b[0m\u001b[2m==5.10.0\u001b[0m\n"
          ]
        }
      ]
    },
    {
      "cell_type": "code",
      "execution_count": 3,
      "metadata": {
        "id": "lBm1JbqCqj1P"
      },
      "outputs": [],
      "source": [
        "import dspy\n",
        "from google.colab import userdata\n",
        "\n",
        "lm = dspy.LM(\"gemini/gemini-2.5-flash\", api_key=userdata.get('GOOGLE_API_KEY'))\n",
        "dspy.configure(lm=lm)"
      ]
    },
    {
      "cell_type": "code",
      "source": [
        "lm(\"Hello\")"
      ],
      "metadata": {
        "colab": {
          "base_uri": "https://localhost:8080/"
        },
        "id": "NikV29qWrIeV",
        "outputId": "c2f7364c-8933-40d7-9317-52452b8f72f1"
      },
      "execution_count": 5,
      "outputs": [
        {
          "output_type": "execute_result",
          "data": {
            "text/plain": [
              "['Hello there! How can I help you today?']"
            ]
          },
          "metadata": {},
          "execution_count": 5
        }
      ]
    },
    {
      "cell_type": "code",
      "source": [
        "import dspy\n",
        "from dspy.datasets.gsm8k import GSM8K, gsm8k_metric\n",
        "\n",
        "dspy.settings.configure(lm=lm)\n",
        "\n",
        "gsm8k = GSM8K()\n",
        "gsm8k_trainset = gsm8k.train[:10]\n",
        "dspy_program = dspy.ChainOfThought(\"question -> answer\")\n",
        "\n",
        "optimizer = dspy.BootstrapFewShot(metric=gsm8k_metric, max_bootstrapped_demos=4, max_labeled_demos=4, max_rounds=5)\n",
        "compiled_dspy_program = optimizer.compile(dspy_program, trainset=gsm8k_trainset)"
      ],
      "metadata": {
        "colab": {
          "base_uri": "https://localhost:8080/"
        },
        "id": "DH4BF_mGrC72",
        "outputId": "621245a8-3b5c-421e-b4e6-367fe60c2650"
      },
      "execution_count": 8,
      "outputs": [
        {
          "output_type": "stream",
          "name": "stderr",
          "text": [
            "100%|██████████| 7473/7473 [00:00<00:00, 26306.61it/s]\n",
            "100%|██████████| 1319/1319 [00:00<00:00, 25448.44it/s]\n",
            " 40%|████      | 4/10 [00:00<00:00, 529.58it/s]"
          ]
        },
        {
          "output_type": "stream",
          "name": "stdout",
          "text": [
            "Bootstrapped 4 full traces after 4 examples for up to 5 rounds, amounting to 4 attempts.\n"
          ]
        },
        {
          "output_type": "stream",
          "name": "stderr",
          "text": [
            "\n"
          ]
        }
      ]
    },
    {
      "cell_type": "code",
      "source": [
        "dspy_program(question=\"How many R's are in strawberrry?\")"
      ],
      "metadata": {
        "colab": {
          "base_uri": "https://localhost:8080/"
        },
        "id": "_5ZMbwk2sBy-",
        "outputId": "746a336d-befb-4839-8092-d3fbb080e4db"
      },
      "execution_count": 32,
      "outputs": [
        {
          "output_type": "execute_result",
          "data": {
            "text/plain": [
              "Prediction(\n",
              "    reasoning='To find the number of \\'R\\'s in \"strawberrry\", I will count each instance of the letter \\'r\\' (case-insensitive) in the given word.\\nThe word is \"strawberrry\".\\n1. s\\n2. t\\n3. r (1st R)\\n4. a\\n5. w\\n6. b\\n7. e\\n8. r (2nd R)\\n9. r (3rd R)\\n10. r (4th R)\\n11. y\\nCounting them, there are 4 \\'R\\'s.',\n",
              "    answer=\"There are 4 R's in strawberrry.\"\n",
              ")"
            ]
          },
          "metadata": {},
          "execution_count": 32
        }
      ]
    },
    {
      "cell_type": "code",
      "source": [
        "compiled_dspy_program(question=\"How many R's are in strawberrry?\")"
      ],
      "metadata": {
        "colab": {
          "base_uri": "https://localhost:8080/"
        },
        "id": "I-a7WxzTrplf",
        "outputId": "7fc0826f-35c1-4ebd-a0f1-cda89701a077"
      },
      "execution_count": 33,
      "outputs": [
        {
          "output_type": "execute_result",
          "data": {
            "text/plain": [
              "Prediction(\n",
              "    reasoning='To find out how many R\\'s are in \"strawberrry\", I will count each instance of the letter \\'R\\' in the given word.\\ns-t-r-a-w-b-e-r-r-r-y\\n1st R: s-t-**r**-a-w-b-e-r-r-r-y\\n2nd R: s-t-r-a-w-b-e-**r**-r-r-y\\n3rd R: s-t-r-a-w-b-e-r-**r**-r-y\\n4th R: s-t-r-a-w-b-e-r-r-**r**-y\\nThere are 4 \\'R\\'s in the word \"strawberrry\".',\n",
              "    answer='4'\n",
              ")"
            ]
          },
          "metadata": {},
          "execution_count": 33
        }
      ]
    },
    {
      "cell_type": "code",
      "source": [
        "# dspy 2.6.0+, saves as program.pkl file\n",
        "compiled_dspy_program.save(\"./dspy_program/\", save_program=True)"
      ],
      "metadata": {
        "id": "Ec-V48H9rwA-"
      },
      "execution_count": 14,
      "outputs": []
    }
  ]
}