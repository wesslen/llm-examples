{
  "cells": [
    {
      "cell_type": "markdown",
      "metadata": {
        "id": "view-in-github",
        "colab_type": "text"
      },
      "source": [
        "<a href=\"https://colab.research.google.com/github/wesslen/llm-examples/blob/main/notebooks/customer_support_agent_langgraph.ipynb\" target=\"_parent\"><img src=\"https://colab.research.google.com/assets/colab-badge.svg\" alt=\"Open In Colab\"/></a>"
      ]
    },
    {
      "cell_type": "markdown",
      "metadata": {
        "id": "Ih2BGcyVojiZ"
      },
      "source": [
        "# Building an Intelligent Customer Support Agent with LangGraph\n",
        "\n",
        "## Overview\n",
        "This tutorial demonstrates how to create an intelligent customer support agent using LangGraph, a powerful tool for building complex language model workflows. The agent is designed to categorize customer queries, analyze sentiment, and provide appropriate responses or escalate issues when necessary.\n",
        "\n",
        "## Motivation\n",
        "In today's fast-paced business environment, efficient and accurate customer support is crucial. Automating the initial stages of customer interaction can significantly reduce response times and improve overall customer satisfaction. This project aims to showcase how advanced language models and graph-based workflows can be combined to create a sophisticated support system that can handle a variety of customer inquiries.\n",
        "\n",
        "## Key Components\n",
        "1. **State Management**: Using TypedDict to define and manage the state of each customer interaction.\n",
        "2. **Query Categorization**: Classifying customer queries into Technical, Billing, or General categories.\n",
        "3. **Sentiment Analysis**: Determining the emotional tone of customer queries.\n",
        "4. **Response Generation**: Creating appropriate responses based on the query category and sentiment.\n",
        "5. **Escalation Mechanism**: Automatically escalating queries with negative sentiment to human agents.\n",
        "6. **Workflow Graph**: Utilizing LangGraph to create a flexible and extensible workflow.\n",
        "\n",
        "## Method Details\n",
        "1. **Initialization**: Set up the environment and import necessary libraries.\n",
        "2. **State Definition**: Create a structure to hold query information, category, sentiment, and response.\n",
        "3. **Node Functions**: Implement separate functions for categorization, sentiment analysis, and response generation.\n",
        "4. **Graph Construction**: Use StateGraph to define the workflow, adding nodes and edges to represent the support process.\n",
        "5. **Conditional Routing**: Implement logic to route queries based on their category and sentiment.\n",
        "6. **Workflow Compilation**: Compile the graph into an executable application.\n",
        "7. **Execution**: Process customer queries through the workflow and retrieve results.\n",
        "\n",
        "## Conclusion\n",
        "This tutorial demonstrates the power and flexibility of LangGraph in creating complex, AI-driven workflows. By combining natural language processing capabilities with a structured graph-based approach, we've created a customer support agent that can efficiently handle a wide range of queries. This system can be further extended and customized to meet specific business needs, potentially integrating with existing customer support tools and databases for even more sophisticated interactions.\n",
        "\n",
        "The approach showcased here has broad applications beyond customer support, illustrating how language models can be effectively orchestrated to solve complex, multi-step problems in various domains."
      ]
    },
    {
      "cell_type": "code",
      "source": [
        "!uv pip install --system langgraph langchain_core langchain_openai python-dotenv"
      ],
      "metadata": {
        "colab": {
          "base_uri": "https://localhost:8080/"
        },
        "id": "T7gXWeDaoyTU",
        "outputId": "55db9f70-f1a9-4c4e-b615-607f2175d121"
      },
      "execution_count": null,
      "outputs": [
        {
          "output_type": "stream",
          "name": "stdout",
          "text": [
            "\u001b[2mUsing Python 3.10.12 environment at /usr\u001b[0m\n",
            "\u001b[2K\u001b[2mResolved \u001b[1m37 packages\u001b[0m \u001b[2min 571ms\u001b[0m\u001b[0m\n",
            "\u001b[2K\u001b[37m⠙\u001b[0m \u001b[2mPreparing packages...\u001b[0m (0/7)\n",
            "\u001b[2K\u001b[1A\u001b[37m⠙\u001b[0m \u001b[2mPreparing packages...\u001b[0m (0/7)\n",
            "\u001b[2mpython-dotenv\u001b[0m \u001b[32m\u001b[2m------------------------------\u001b[0m\u001b[0m     0 B/19.40 KiB\n",
            "\u001b[2K\u001b[2A\u001b[37m⠙\u001b[0m \u001b[2mPreparing packages...\u001b[0m (0/7)\n",
            "\u001b[2mpython-dotenv\u001b[0m \u001b[32m\u001b[2m------------------------------\u001b[0m\u001b[0m     0 B/19.40 KiB\n",
            "\u001b[2mlanggraph-checkpoint\u001b[0m \u001b[32m\u001b[2m------------------------------\u001b[0m\u001b[0m     0 B/22.90 KiB\n",
            "\u001b[2K\u001b[3A\u001b[37m⠙\u001b[0m \u001b[2mPreparing packages...\u001b[0m (0/7)\n",
            "\u001b[2mhttpx-sse \u001b[0m \u001b[32m\u001b[2m------------------------------\u001b[0m\u001b[0m     0 B/7.64 KiB\n",
            "\u001b[2mpython-dotenv\u001b[0m \u001b[32m\u001b[2m------------------------------\u001b[0m\u001b[0m     0 B/19.40 KiB\n",
            "\u001b[2mlanggraph-checkpoint\u001b[0m \u001b[32m\u001b[2m------------------------------\u001b[0m\u001b[0m     0 B/22.90 KiB\n",
            "\u001b[2K\u001b[4A\u001b[37m⠙\u001b[0m \u001b[2mPreparing packages...\u001b[0m (0/7)\n",
            "\u001b[2mhttpx-sse \u001b[0m \u001b[32m\u001b[2m------------------------------\u001b[0m\u001b[0m     0 B/7.64 KiB\n",
            "\u001b[2mpython-dotenv\u001b[0m \u001b[32m\u001b[2m------------------------------\u001b[0m\u001b[0m     0 B/19.40 KiB\n",
            "\u001b[2mlanggraph-checkpoint\u001b[0m \u001b[32m\u001b[2m------------------------------\u001b[0m\u001b[0m     0 B/22.90 KiB\n",
            "\u001b[2K\u001b[4A\u001b[37m⠙\u001b[0m \u001b[2mPreparing packages...\u001b[0m (0/7)\n",
            "\u001b[2mhttpx-sse \u001b[0m \u001b[32m\u001b[2m------------------------------\u001b[0m\u001b[0m     0 B/7.64 KiB\n",
            "\u001b[2mpython-dotenv\u001b[0m \u001b[32m\u001b[2m------------------------------\u001b[0m\u001b[0m     0 B/19.40 KiB\n",
            "\u001b[2mlanggraph-checkpoint\u001b[0m \u001b[32m--------------------\u001b[2m----------\u001b[0m\u001b[0m 14.91 KiB/22.90 KiB\n",
            "\u001b[2K\u001b[4A\u001b[37m⠙\u001b[0m \u001b[2mPreparing packages...\u001b[0m (0/7)\n",
            "\u001b[2mhttpx-sse \u001b[0m \u001b[32m------------------------------\u001b[2m\u001b[0m\u001b[0m 7.64 KiB/7.64 KiB\n",
            "\u001b[2mpython-dotenv\u001b[0m \u001b[32m\u001b[2m------------------------------\u001b[0m\u001b[0m     0 B/19.40 KiB\n",
            "\u001b[2mlanggraph-checkpoint\u001b[0m \u001b[32m--------------------\u001b[2m----------\u001b[0m\u001b[0m 14.91 KiB/22.90 KiB\n",
            "\u001b[2K\u001b[4A\u001b[37m⠙\u001b[0m \u001b[2mPreparing packages...\u001b[0m (0/7)\n",
            "\u001b[2mhttpx-sse \u001b[0m \u001b[32m------------------------------\u001b[2m\u001b[0m\u001b[0m 7.64 KiB/7.64 KiB\n",
            "\u001b[2mpython-dotenv\u001b[0m \u001b[32m-------------------------\u001b[2m-----\u001b[0m\u001b[0m 16.00 KiB/19.40 KiB\n",
            "\u001b[2mlanggraph-checkpoint\u001b[0m \u001b[32m--------------------\u001b[2m----------\u001b[0m\u001b[0m 14.91 KiB/22.90 KiB\n",
            "\u001b[2K\u001b[4A\u001b[37m⠙\u001b[0m \u001b[2mPreparing packages...\u001b[0m (0/7)\n",
            "\u001b[2mhttpx-sse \u001b[0m \u001b[32m------------------------------\u001b[2m\u001b[0m\u001b[0m 7.64 KiB/7.64 KiB\n",
            "\u001b[2mpython-dotenv\u001b[0m \u001b[32m-------------------------\u001b[2m-----\u001b[0m\u001b[0m 16.00 KiB/19.40 KiB\n",
            "\u001b[2mlanggraph-checkpoint\u001b[0m \u001b[32m--------------------\u001b[2m----------\u001b[0m\u001b[0m 14.91 KiB/22.90 KiB\n",
            "\u001b[2K\u001b[4A\u001b[37m⠙\u001b[0m \u001b[2mPreparing packages...\u001b[0m (0/7)\n",
            "\u001b[2mhttpx-sse \u001b[0m \u001b[32m------------------------------\u001b[2m\u001b[0m\u001b[0m 7.64 KiB/7.64 KiB\n",
            "\u001b[2mpython-dotenv\u001b[0m \u001b[32m-------------------------\u001b[2m-----\u001b[0m\u001b[0m 16.00 KiB/19.40 KiB\n",
            "\u001b[2mlanggraph-checkpoint\u001b[0m \u001b[32m--------------------\u001b[2m----------\u001b[0m\u001b[0m 14.91 KiB/22.90 KiB\n",
            "\u001b[2mlanggraph-sdk\u001b[0m \u001b[32m------------------------------\u001b[2m\u001b[0m\u001b[0m 28.39 KiB/28.39 KiB\n",
            "\u001b[2K\u001b[5A\u001b[37m⠙\u001b[0m \u001b[2mPreparing packages...\u001b[0m (0/7)\n",
            "\u001b[2mhttpx-sse \u001b[0m \u001b[32m------------------------------\u001b[2m\u001b[0m\u001b[0m 7.64 KiB/7.64 KiB\n",
            "\u001b[2mpython-dotenv\u001b[0m \u001b[32m-------------------------\u001b[2m-----\u001b[0m\u001b[0m 16.00 KiB/19.40 KiB\n",
            "\u001b[2mlanggraph-checkpoint\u001b[0m \u001b[32m--------------------\u001b[2m----------\u001b[0m\u001b[0m 14.91 KiB/22.90 KiB\n",
            "\u001b[2K\u001b[4A\u001b[37m⠙\u001b[0m \u001b[2mPreparing packages...\u001b[0m (0/7)\n",
            "\u001b[2mhttpx-sse \u001b[0m \u001b[32m------------------------------\u001b[2m\u001b[0m\u001b[0m 7.64 KiB/7.64 KiB\n",
            "\u001b[2mpython-dotenv\u001b[0m \u001b[32m-------------------------\u001b[2m-----\u001b[0m\u001b[0m 16.00 KiB/19.40 KiB\n",
            "\u001b[2mlanggraph-checkpoint\u001b[0m \u001b[32m--------------------\u001b[2m----------\u001b[0m\u001b[0m 14.91 KiB/22.90 KiB\n",
            "\u001b[2K\u001b[4A\u001b[37m⠙\u001b[0m \u001b[2mPreparing packages...\u001b[0m (0/7)\n",
            "\u001b[2mpython-dotenv\u001b[0m \u001b[32m-------------------------\u001b[2m-----\u001b[0m\u001b[0m 16.00 KiB/19.40 KiB\n",
            "\u001b[2mlanggraph-checkpoint\u001b[0m \u001b[32m--------------------\u001b[2m----------\u001b[0m\u001b[0m 14.91 KiB/22.90 KiB\n",
            "\u001b[2K\u001b[3A\u001b[37m⠙\u001b[0m \u001b[2mPreparing packages...\u001b[0m (0/7)\n",
            "\u001b[2mpython-dotenv\u001b[0m \u001b[32m-------------------------\u001b[2m-----\u001b[0m\u001b[0m 16.00 KiB/19.40 KiB\n",
            "\u001b[2mlanggraph-checkpoint\u001b[0m \u001b[32m------------------------------\u001b[2m\u001b[0m\u001b[0m 22.90 KiB/22.90 KiB\n",
            "\u001b[2K\u001b[3A\u001b[37m⠙\u001b[0m \u001b[2mPreparing packages...\u001b[0m (0/7)\n",
            "\u001b[2mpython-dotenv\u001b[0m \u001b[32m-------------------------\u001b[2m-----\u001b[0m\u001b[0m 16.00 KiB/19.40 KiB\n",
            "\u001b[2mlanggraph-checkpoint\u001b[0m \u001b[32m------------------------------\u001b[2m\u001b[0m\u001b[0m 22.90 KiB/22.90 KiB\n",
            "\u001b[2mlangchain-openai\u001b[0m \u001b[32m----------\u001b[2m--------------------\u001b[0m\u001b[0m 16.00 KiB/49.19 KiB\n",
            "\u001b[2K\u001b[4A\u001b[37m⠙\u001b[0m \u001b[2mPreparing packages...\u001b[0m (0/7)\n",
            "\u001b[2mpython-dotenv\u001b[0m \u001b[32m-------------------------\u001b[2m-----\u001b[0m\u001b[0m 16.00 KiB/19.40 KiB\n",
            "\u001b[2mlanggraph-checkpoint\u001b[0m \u001b[32m------------------------------\u001b[2m\u001b[0m\u001b[0m 22.90 KiB/22.90 KiB\n",
            "\u001b[2mlangchain-openai\u001b[0m \u001b[32m----------\u001b[2m--------------------\u001b[0m\u001b[0m 16.00 KiB/49.19 KiB\n",
            "\u001b[2K\u001b[4A\u001b[37m⠙\u001b[0m \u001b[2mPreparing packages...\u001b[0m (0/7)\n",
            "\u001b[2mpython-dotenv\u001b[0m \u001b[32m-------------------------\u001b[2m-----\u001b[0m\u001b[0m 16.00 KiB/19.40 KiB\n",
            "\u001b[2mlanggraph-checkpoint\u001b[0m \u001b[32m------------------------------\u001b[2m\u001b[0m\u001b[0m 22.90 KiB/22.90 KiB\n",
            "\u001b[2mlangchain-openai\u001b[0m \u001b[32m----------\u001b[2m--------------------\u001b[0m\u001b[0m 16.00 KiB/49.19 KiB\n",
            "\u001b[2mlanggraph \u001b[0m \u001b[32m\u001b[2m------------------------------\u001b[0m\u001b[0m     0 B/121.90 KiB\n",
            "\u001b[2K\u001b[5A\u001b[37m⠙\u001b[0m \u001b[2mPreparing packages...\u001b[0m (0/7)\n",
            "\u001b[2mpython-dotenv\u001b[0m \u001b[32m-------------------------\u001b[2m-----\u001b[0m\u001b[0m 16.00 KiB/19.40 KiB\n",
            "\u001b[2mlanggraph-checkpoint\u001b[0m \u001b[32m------------------------------\u001b[2m\u001b[0m\u001b[0m 22.90 KiB/22.90 KiB\n",
            "\u001b[2mlangchain-openai\u001b[0m \u001b[32m----------\u001b[2m--------------------\u001b[0m\u001b[0m 16.00 KiB/49.19 KiB\n",
            "\u001b[2mlanggraph \u001b[0m \u001b[32m---\u001b[2m---------------------------\u001b[0m\u001b[0m 8.74 KiB/121.90 KiB\n",
            "\u001b[2K\u001b[5A\u001b[37m⠙\u001b[0m \u001b[2mPreparing packages...\u001b[0m (0/7)\n",
            "\u001b[2mpython-dotenv\u001b[0m \u001b[32m-------------------------\u001b[2m-----\u001b[0m\u001b[0m 16.00 KiB/19.40 KiB\n",
            "\u001b[2mlanggraph-checkpoint\u001b[0m \u001b[32m------------------------------\u001b[2m\u001b[0m\u001b[0m 22.90 KiB/22.90 KiB\n",
            "\u001b[2mlangchain-openai\u001b[0m \u001b[32m--------------------\u001b[2m----------\u001b[0m\u001b[0m 32.00 KiB/49.19 KiB\n",
            "\u001b[2mlanggraph \u001b[0m \u001b[32m---\u001b[2m---------------------------\u001b[0m\u001b[0m 8.74 KiB/121.90 KiB\n",
            "\u001b[2K\u001b[5A\u001b[37m⠙\u001b[0m \u001b[2mPreparing packages...\u001b[0m (0/7)\n",
            "\u001b[2mpython-dotenv\u001b[0m \u001b[32m-------------------------\u001b[2m-----\u001b[0m\u001b[0m 16.00 KiB/19.40 KiB\n",
            "\u001b[2mlangchain-openai\u001b[0m \u001b[32m--------------------\u001b[2m----------\u001b[0m\u001b[0m 32.00 KiB/49.19 KiB\n",
            "\u001b[2mlanggraph \u001b[0m \u001b[32m---\u001b[2m---------------------------\u001b[0m\u001b[0m 8.74 KiB/121.90 KiB\n",
            "\u001b[2K\u001b[4A\u001b[37m⠙\u001b[0m \u001b[2mPreparing packages...\u001b[0m (0/7)\n",
            "\u001b[2mlangchain-openai\u001b[0m \u001b[32m------------------------------\u001b[2m\u001b[0m\u001b[0m 48.00 KiB/49.19 KiB\n",
            "\u001b[2mlanggraph \u001b[0m \u001b[32m---\u001b[2m---------------------------\u001b[0m\u001b[0m 8.74 KiB/121.90 KiB\n",
            "\u001b[2K\u001b[3A\u001b[37m⠙\u001b[0m \u001b[2mPreparing packages...\u001b[0m (0/7)\n",
            "\u001b[2mlanggraph \u001b[0m \u001b[32m-------\u001b[2m-----------------------\u001b[0m\u001b[0m 24.74 KiB/121.90 KiB\n",
            "\u001b[2K\u001b[2A\u001b[37m⠙\u001b[0m \u001b[2mPreparing packages...\u001b[0m (0/7)\n",
            "\u001b[2K\u001b[1A\u001b[37m⠙\u001b[0m \u001b[2mPreparing packages...\u001b[0m (0/7)\n",
            "\u001b[2K\u001b[2mPrepared \u001b[1m7 packages\u001b[0m \u001b[2min 50ms\u001b[0m\u001b[0m\n",
            "\u001b[2K\u001b[2mInstalled \u001b[1m7 packages\u001b[0m \u001b[2min 8ms\u001b[0m\u001b[0m\n",
            " \u001b[32m+\u001b[39m \u001b[1mhttpx-sse\u001b[0m\u001b[2m==0.4.0\u001b[0m\n",
            " \u001b[32m+\u001b[39m \u001b[1mlangchain-openai\u001b[0m\u001b[2m==0.2.6\u001b[0m\n",
            " \u001b[32m+\u001b[39m \u001b[1mlanggraph\u001b[0m\u001b[2m==0.2.48\u001b[0m\n",
            " \u001b[32m+\u001b[39m \u001b[1mlanggraph-checkpoint\u001b[0m\u001b[2m==2.0.4\u001b[0m\n",
            " \u001b[32m+\u001b[39m \u001b[1mlanggraph-sdk\u001b[0m\u001b[2m==0.1.36\u001b[0m\n",
            " \u001b[32m+\u001b[39m \u001b[1mpython-dotenv\u001b[0m\u001b[2m==1.0.1\u001b[0m\n",
            " \u001b[32m+\u001b[39m \u001b[1mtiktoken\u001b[0m\u001b[2m==0.8.0\u001b[0m\n"
          ]
        }
      ]
    },
    {
      "cell_type": "markdown",
      "metadata": {
        "id": "ATLbvvhpojiZ"
      },
      "source": [
        "## Import necessary libraries\n"
      ]
    },
    {
      "cell_type": "code",
      "execution_count": null,
      "metadata": {
        "id": "-70I6uZ6ojiZ"
      },
      "outputs": [],
      "source": [
        "from typing import Dict, TypedDict\n",
        "from langgraph.graph import StateGraph, END\n",
        "from langchain_core.prompts import ChatPromptTemplate\n",
        "from langchain_openai import ChatOpenAI\n",
        "\n",
        "from IPython.display import display, Image\n",
        "from langchain_core.runnables.graph import MermaidDrawMethod\n",
        "from dotenv import load_dotenv\n",
        "import os\n",
        "\n",
        "# Load environment variables and set OpenAI API key\n",
        "#load_dotenv()\n",
        "\n",
        "from google.colab import userdata\n",
        "\n",
        "os.environ[\"OPENAI_API_KEY\"] = userdata.get('DSBA_LLAMA3_KEY')\n",
        "os.environ[\"OPENAI_API_BASE\"] = userdata.get('MODAL_BASE_URL')"
      ]
    },
    {
      "cell_type": "markdown",
      "metadata": {
        "id": "lx8rfh3dojia"
      },
      "source": [
        "## Define State Structure\n",
        "\n",
        "We define a `State` class to hold the query, category, sentiment, and response for each customer interaction."
      ]
    },
    {
      "cell_type": "code",
      "execution_count": null,
      "metadata": {
        "id": "VgyWrcjDojia"
      },
      "outputs": [],
      "source": [
        "class State(TypedDict):\n",
        "    query: str\n",
        "    category: str\n",
        "    sentiment: str\n",
        "    response: str"
      ]
    },
    {
      "cell_type": "markdown",
      "metadata": {
        "id": "O2WkG5x9ojia"
      },
      "source": [
        "## Define Node Functions\n",
        "\n",
        "These functions represent the different stages of processing a customer query."
      ]
    },
    {
      "cell_type": "code",
      "execution_count": null,
      "metadata": {
        "id": "vtd6oEeMojia"
      },
      "outputs": [],
      "source": [
        "def categorize(state: State) -> State:\n",
        "    \"\"\"Categorize the customer query into Technical, Billing, or General.\"\"\"\n",
        "    prompt = ChatPromptTemplate.from_template(\n",
        "        \"Categorize the following customer query into one of these categories: \"\n",
        "        \"Technical, Billing, General. Query: {query}\"\n",
        "    )\n",
        "    chain = prompt | ChatOpenAI(temperature=0, model=\"/models/NousResearch/Meta-Llama-3.1-8B-Instruct\")\n",
        "    category = chain.invoke({\"query\": state[\"query\"]}).content\n",
        "    return {\"category\": category}\n",
        "\n",
        "def analyze_sentiment(state: State) -> State:\n",
        "    \"\"\"Analyze the sentiment of the customer query as Positive, Neutral, or Negative.\"\"\"\n",
        "    prompt = ChatPromptTemplate.from_template(\n",
        "        \"Analyze the sentiment of the following customer query. \"\n",
        "        \"Respond with either 'Positive', 'Neutral', or 'Negative'. Query: {query}\"\n",
        "    )\n",
        "    chain = prompt | ChatOpenAI(temperature=0, model=\"/models/NousResearch/Meta-Llama-3.1-8B-Instruct\")\n",
        "    sentiment = chain.invoke({\"query\": state[\"query\"]}).content\n",
        "    return {\"sentiment\": sentiment}\n",
        "\n",
        "def handle_technical(state: State) -> State:\n",
        "    \"\"\"Provide a technical support response to the query.\"\"\"\n",
        "    prompt = ChatPromptTemplate.from_template(\n",
        "        \"Provide a technical support response to the following query: {query}\"\n",
        "    )\n",
        "    chain = prompt | ChatOpenAI(temperature=0, model=\"/models/NousResearch/Meta-Llama-3.1-8B-Instruct\")\n",
        "    response = chain.invoke({\"query\": state[\"query\"]}).content\n",
        "    return {\"response\": response}\n",
        "\n",
        "def handle_billing(state: State) -> State:\n",
        "    \"\"\"Provide a billing support response to the query.\"\"\"\n",
        "    prompt = ChatPromptTemplate.from_template(\n",
        "        \"Provide a billing support response to the following query: {query}\"\n",
        "    )\n",
        "    chain = prompt | ChatOpenAI(temperature=0, model=\"/models/NousResearch/Meta-Llama-3.1-8B-Instruct\")\n",
        "    response = chain.invoke({\"query\": state[\"query\"]}).content\n",
        "    return {\"response\": response}\n",
        "\n",
        "def handle_general(state: State) -> State:\n",
        "    \"\"\"Provide a general support response to the query.\"\"\"\n",
        "    prompt = ChatPromptTemplate.from_template(\n",
        "        \"Provide a general support response to the following query: {query}\"\n",
        "    )\n",
        "    chain = prompt | ChatOpenAI(temperature=0, model=\"/models/NousResearch/Meta-Llama-3.1-8B-Instruct\")\n",
        "    response = chain.invoke({\"query\": state[\"query\"]}).content\n",
        "    return {\"response\": response}\n",
        "\n",
        "def escalate(state: State) -> State:\n",
        "    \"\"\"Escalate the query to a human agent due to negative sentiment.\"\"\"\n",
        "    return {\"response\": \"This query has been escalated to a human agent due to its negative sentiment.\"}\n",
        "\n",
        "def route_query(state: State) -> str:\n",
        "    \"\"\"Route the query based on its sentiment and category.\"\"\"\n",
        "    if state[\"sentiment\"] == \"Negative\":\n",
        "        return \"escalate\"\n",
        "    elif state[\"category\"] == \"Technical\":\n",
        "        return \"handle_technical\"\n",
        "    elif state[\"category\"] == \"Billing\":\n",
        "        return \"handle_billing\"\n",
        "    else:\n",
        "        return \"handle_general\""
      ]
    },
    {
      "cell_type": "markdown",
      "metadata": {
        "id": "Af2p0tstojia"
      },
      "source": [
        "## Create and Configure the Graph\n",
        "\n",
        "Here we set up the LangGraph, defining nodes and edges to create our customer support workflow."
      ]
    },
    {
      "cell_type": "code",
      "execution_count": null,
      "metadata": {
        "id": "rOs1XhMwojia"
      },
      "outputs": [],
      "source": [
        "# Create the graph\n",
        "workflow = StateGraph(State)\n",
        "\n",
        "# Add nodes\n",
        "workflow.add_node(\"categorize\", categorize)\n",
        "workflow.add_node(\"analyze_sentiment\", analyze_sentiment)\n",
        "workflow.add_node(\"handle_technical\", handle_technical)\n",
        "workflow.add_node(\"handle_billing\", handle_billing)\n",
        "workflow.add_node(\"handle_general\", handle_general)\n",
        "workflow.add_node(\"escalate\", escalate)\n",
        "\n",
        "# Add edges\n",
        "workflow.add_edge(\"categorize\", \"analyze_sentiment\")\n",
        "workflow.add_conditional_edges(\n",
        "    \"analyze_sentiment\",\n",
        "    route_query,\n",
        "    {\n",
        "        \"handle_technical\": \"handle_technical\",\n",
        "        \"handle_billing\": \"handle_billing\",\n",
        "        \"handle_general\": \"handle_general\",\n",
        "        \"escalate\": \"escalate\"\n",
        "    }\n",
        ")\n",
        "workflow.add_edge(\"handle_technical\", END)\n",
        "workflow.add_edge(\"handle_billing\", END)\n",
        "workflow.add_edge(\"handle_general\", END)\n",
        "workflow.add_edge(\"escalate\", END)\n",
        "\n",
        "# Set entry point\n",
        "workflow.set_entry_point(\"categorize\")\n",
        "\n",
        "# Compile the graph\n",
        "app = workflow.compile()"
      ]
    },
    {
      "cell_type": "markdown",
      "metadata": {
        "id": "yBWeA6ZKojia"
      },
      "source": [
        "## Visualize the Graph\n",
        "\n",
        "This cell generates and displays a visual representation of our LangGraph workflow."
      ]
    },
    {
      "cell_type": "code",
      "execution_count": null,
      "metadata": {
        "colab": {
          "base_uri": "https://localhost:8080/",
          "height": 449
        },
        "id": "0_vX33JJojia",
        "outputId": "a6f86f9f-6fda-4c36-b326-351911697fc8"
      },
      "outputs": [
        {
          "output_type": "display_data",
          "data": {
            "image/jpeg": "[encoded data removed]",
            "text/plain": [
              "<IPython.core.display.Image object>"
            ]
          },
          "metadata": {}
        }
      ],
      "source": [
        "display(\n",
        "    Image(\n",
        "        app.get_graph().draw_mermaid_png(\n",
        "            draw_method=MermaidDrawMethod.API,\n",
        "        )\n",
        "    )\n",
        ")"
      ]
    },
    {
      "cell_type": "markdown",
      "metadata": {
        "id": "V7ZTmL1Qojia"
      },
      "source": [
        "## Run Customer Support Function\n",
        "\n",
        "This function processes a customer query through our LangGraph workflow."
      ]
    },
    {
      "cell_type": "code",
      "execution_count": null,
      "metadata": {
        "id": "-mB18Ni7ojia"
      },
      "outputs": [],
      "source": [
        "def run_customer_support(query: str) -> Dict[str, str]:\n",
        "    \"\"\"Process a customer query through the LangGraph workflow.\n",
        "\n",
        "    Args:\n",
        "        query (str): The customer's query\n",
        "\n",
        "    Returns:\n",
        "        Dict[str, str]: A dictionary containing the query's category, sentiment, and response\n",
        "    \"\"\"\n",
        "    results = app.invoke({\"query\": query})\n",
        "    return {\n",
        "        \"category\": results[\"category\"],\n",
        "        \"sentiment\": results[\"sentiment\"],\n",
        "        \"response\": results[\"response\"]\n",
        "    }\n"
      ]
    },
    {
      "cell_type": "markdown",
      "metadata": {
        "id": "FHNOpp_mojib"
      },
      "source": [
        "## Test the Customer Support Agent\n",
        "\n",
        "Let's test our customer support agent with a sample queries for each kind of query type."
      ]
    },
    {
      "cell_type": "code",
      "execution_count": null,
      "metadata": {
        "colab": {
          "base_uri": "https://localhost:8080/"
        },
        "id": "xk4Q4mDXojib",
        "outputId": "07b7f06a-a174-48c9-c744-5f8440a16002"
      },
      "outputs": [
        {
          "output_type": "stream",
          "name": "stdout",
          "text": [
            "Query: My internet connection keeps dropping. Can you help?\n",
            "Category: I would categorize the customer query as: **Technical**\n",
            "\n",
            "The customer is reporting a specific issue with their internet connection, which is a technical problem that requires troubleshooting and possibly technical assistance to resolve.\n",
            "Sentiment: The sentiment of this customer query is 'Negative'. The customer is experiencing a problem with their internet connection, which is causing frustration, and is seeking assistance.\n",
            "Response: I'd be happy to help you troubleshoot the issue with your internet connection dropping. Here are some general steps we can take to try and resolve the problem:\n",
            "\n",
            "1. **Restart your router**: This is often the simplest and most effective solution. Try unplugging your router from the power source, waiting for 30 seconds, and then plugging it back in. This will reset your router and may resolve any temporary issues.\n",
            "2. **Check your physical connections**: Ensure that all cables are securely connected to your router, modem, and any other devices. Try swapping out any suspect cables to rule out a faulty connection.\n",
            "3. **Check for outages in your area**: Visit your internet service provider's (ISP) website or social media page to see if there are any reported outages in your area.\n",
            "4. **Check your router's firmware**: Outdated firmware can cause connectivity issues. Check with your router manufacturer to see if there are any firmware updates available.\n",
            "5. **Check for interference**: Other devices in your home can cause interference with your internet signal. Try moving your router to a central location and away from other devices that may be causing interference.\n",
            "6. **Check your internet plan**: If you've recently upgraded or downgraded your internet plan, it's possible that your current plan is not sufficient for your needs. Contact your ISP to discuss your options.\n",
            "7. **Run a speed test**: Use a speed test tool to check your internet speed and see if it's within the expected range for your plan.\n",
            "\n",
            "If none of these steps resolve the issue, we can try more advanced troubleshooting steps or explore other possible causes, such as:\n",
            "\n",
            "* **Modem issues**: If you're using a separate modem, try resetting it or replacing it if it's old.\n",
            "* **ISP issues**: Contact your ISP to report the issue and see if they can send a technician to investigate.\n",
            "* **Hardware issues**: If you're using a wireless router, try replacing it with a wired router to rule out any hardware issues.\n",
            "\n",
            "Let's start with the first step and see if we can resolve the issue. Do you want to try restarting your router?\n",
            "\n",
            "\n",
            "Query: I need help talking to chatGPT\n",
            "Category: I would categorize the customer query as \"General\". The query is asking for assistance with a conversation, which is a non-technical issue.\n",
            "Sentiment: The sentiment of this customer query is 'Neutral'. The customer is seeking assistance, which implies a need for help, but the tone is not emotional or confrontational.\n",
            "Response: I'm happy to help facilitate a conversation between you and chatGPT. Here are a few suggestions to get you started:\n",
            "\n",
            "1. **Be clear and specific**: If you have a specific question or topic you'd like to discuss, try to be as clear and concise as possible. This will help chatGPT understand your query and provide a more accurate response.\n",
            "2. **Use everyday language**: Don't worry too much about using perfect grammar or jargon. ChatGPT is designed to understand everyday language, so feel free to ask your question in a way that feels natural to you.\n",
            "3. **Ask follow-up questions**: If you're not sure about a particular response or want more information, don't hesitate to ask follow-up questions. This will help chatGPT provide more context and clarify any misunderstandings.\n",
            "4. **Be patient and open-minded**: ChatGPT is a machine learning model, and it may not always understand the nuances of human language or provide the exact response you're looking for. Be patient and open-minded, and feel free to ask for clarification or rephrase your question if needed.\n",
            "\n",
            "If you're still having trouble getting started, you can try asking chatGPT a simple question like \"Can you explain how you work?\" or \"What are your limitations?\" This can help you get a better sense of how chatGPT operates and what you can expect from our conversation.\n",
            "\n",
            "How can I assist you further? Is there a specific topic or question you'd like to discuss with chatGPT?\n",
            "\n",
            "\n",
            "Query: where can i find my receipt?\n",
            "Category: I would categorize the customer query as \"General\". The query is asking for information about a specific document (receipt) rather than inquiring about a technical issue or a billing problem.\n",
            "Sentiment: I would classify the sentiment of this customer query as 'Neutral'. The customer is simply asking for information and assistance, without expressing any emotion or frustration.\n",
            "Response: Here's a general support response:\n",
            "\n",
            "\"Hello! I'd be happy to help you locate your receipt. There are a few possible places you can check:\n",
            "\n",
            "* If you made a purchase online, you can check your email inbox for a confirmation email that should include a receipt or a link to access your order details.\n",
            "* If you made a purchase in-store, you can check your wallet or purse for a physical receipt.\n",
            "* If you're still having trouble finding your receipt, you can also try checking your order history on our website or mobile app (if you have an account with us).\n",
            "* If none of the above options work, please let me know and I can try to assist you further. Can you please provide me with more information about your purchase, such as the date and location of the transaction, and I'll do my best to help you locate your receipt?\"\n",
            "\n",
            "\n",
            "Query: What are your business hours?\n",
            "Category: I would categorize the customer query as \"General\". The query is asking for information about the company's operating hours, which is a general question about the company's policies and operations, rather than a technical or billing-related question.\n",
            "Sentiment: Neutral.\n",
            "Response: \"Thank you for reaching out to us. Our business hours are Monday through Friday, 9:00 AM to 5:00 PM EST. We are closed on weekends and major holidays. If you have a question or concern outside of our regular business hours, please feel free to leave a message and we will get back to you as soon as possible. Alternatively, you can also contact us through our website or social media channels for assistance.\"\n"
          ]
        }
      ],
      "source": [
        "# escalate\n",
        "\n",
        "query = \"My internet connection keeps dropping. Can you help?\"\n",
        "result = run_customer_support(query)\n",
        "print(f\"Query: {query}\")\n",
        "print(f\"Category: {result['category']}\")\n",
        "print(f\"Sentiment: {result['sentiment']}\")\n",
        "print(f\"Response: {result['response']}\")\n",
        "print(\"\\n\")\n",
        "\n",
        "# handle_technical\n",
        "\n",
        "query = \"I need help talking to chatGPT\"\n",
        "result = run_customer_support(query)\n",
        "print(f\"Query: {query}\")\n",
        "print(f\"Category: {result['category']}\")\n",
        "print(f\"Sentiment: {result['sentiment']}\")\n",
        "print(f\"Response: {result['response']}\")\n",
        "print(\"\\n\")\n",
        "\n",
        "# handle_billing\n",
        "\n",
        "query = \"where can i find my receipt?\"\n",
        "result = run_customer_support(query)\n",
        "print(f\"Query: {query}\")\n",
        "print(f\"Category: {result['category']}\")\n",
        "print(f\"Sentiment: {result['sentiment']}\")\n",
        "print(f\"Response: {result['response']}\")\n",
        "print(\"\\n\")\n",
        "\n",
        "# handle_general\n",
        "\n",
        "query = \"What are your business hours?\"\n",
        "result = run_customer_support(query)\n",
        "print(f\"Query: {query}\")\n",
        "print(f\"Category: {result['category']}\")\n",
        "print(f\"Sentiment: {result['sentiment']}\")\n",
        "print(f\"Response: {result['response']}\")\n"
      ]
    }
  ],
  "metadata": {
    "kernelspec": {
      "display_name": ".venv",
      "language": "python",
      "name": "python3"
    },
    "language_info": {
      "codemirror_mode": {
        "name": "ipython",
        "version": 3
      },
      "file_extension": ".py",
      "mimetype": "text/x-python",
      "name": "python",
      "nbconvert_exporter": "python",
      "pygments_lexer": "ipython3",
      "version": "3.12.0"
    },
    "colab": {
      "provenance": [],
      "include_colab_link": true
    }
  },
  "nbformat": 4,
  "nbformat_minor": 0
}